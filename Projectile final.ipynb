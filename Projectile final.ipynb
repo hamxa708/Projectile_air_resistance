{
 "cells": [
  {
   "cell_type": "code",
   "execution_count": 1,
   "id": "a2c4b38f",
   "metadata": {},
   "outputs": [
    {
     "data": {
      "image/png": "[encoded data removed]",
      "text/plain": [
       "<Figure size 432x288 with 1 Axes>"
      ]
     },
     "metadata": {
      "needs_background": "light"
     },
     "output_type": "display_data"
    },
    {
     "name": "stdout",
     "output_type": "stream",
     "text": [
      "Time of flight : 7.89 seconds\n"
     ]
    }
   ],
   "source": [
    "import numpy as np\n",
    "import matplotlib.pyplot as plt\n",
    "\n",
    "def calculating_Acclel(t, state, k, m):\n",
    "    x, y, vx, vy = state\n",
    "    v = np.sqrt(vx**2 + vy**2)\n",
    "    F_air_x = -k * v * vx\n",
    "    F_air_y = -k * v * vy\n",
    "    ax = F_air_x / m\n",
    "    ay = (F_air_y - m * g) / m\n",
    "    return [vx, vy, ax, ay]\n",
    "\n",
    "def runge_kutta_step(t, state, dt, k, m):\n",
    "    k1 = calculating_Acclel(t, state, k, m)\n",
    "    k2 = calculating_Acclel(t + 0.5*dt, [s + 0.5*dt*k for s, k in zip(state, k1)], k, m)\n",
    "    k3 = calculating_Acclel(t + 0.5*dt, [s + 0.5*dt*k for s, k in zip(state, k2)], k, m)\n",
    "    k4 = calculating_Acclel(t + dt, [s + dt*k for s, k in zip(state, k3)], k, m)\n",
    "  \n",
    "    return [s + dt/6 * (k1_i + 2*k2_i + 2*k3_i + k4_i) for s, k1_i, k2_i, k3_i, k4_i in zip(state, k1, k2, k3, k4)]\n",
    "\n",
    "def projectile_motion_with_air_resistance(v0, theta, h0, k, m):\n",
    "    if k==0 and theta==90:\n",
    "        vx0=0\n",
    "        vy0=v0\n",
    "    else:\n",
    "        theta = np.radians(theta)\n",
    "        vx0 = v0 * np.cos(theta)\n",
    "        vy0 = v0 * np.sin(theta)\n",
    "    state = [0, h0, vx0, vy0]\n",
    "    dt = 0.01\n",
    "    times = [0]\n",
    "    x_values = [0]\n",
    "    y_values = [h0]\n",
    "    \n",
    "    while state[1] >= 0:\n",
    "        t = times[-1]\n",
    "        state = runge_kutta_step(t, state, dt, k, m)\n",
    "        times.append(t + dt)\n",
    "        x_values.append(state[0])\n",
    "        y_values.append(state[1])\n",
    "    \n",
    "    time_of_flight = times[-1]\n",
    "    \n",
    "    return time_of_flight, times, x_values, y_values\n",
    "\n",
    "g = 9.81  # Acceleration due to gravity (m/s^2)\n",
    "\n",
    "v0 = 40   # Initial velocity (m/s)\n",
    "launch_angle = 30  \n",
    "initial_height = 20  \n",
    "k = 1.225 # Air resistance constant (tune this value as needed, depending on the projectile and environment)\n",
    "mass = 1    # mass of projecile\n",
    "\n",
    "time_of_flight, times, x_values, y_values = \\\n",
    "projectile_motion_with_air_resistance(v0, launch_angle,initial_height, k, mass)\n",
    "\n",
    "plt.plot(x_values, y_values)\n",
    "plt.xlabel('Horizontal Distance (m)')\n",
    "plt.ylabel('Vertical Distance (m)')\n",
    "plt.title('Projectile Motion with Air Resistance')\n",
    "plt.ylim(0,max(y_values)+7)\n",
    "plt.plot([0,0],[0,initial_height],'k',linewidth=3)\n",
    "plt.grid(True)\n",
    "plt.show()\n",
    "\n",
    "print(f'Time of flight : {time_of_flight:.2f} seconds')\n"
   ]
  }
 ],
 "metadata": {
  "kernelspec": {
   "display_name": "Python 3 (ipykernel)",
   "language": "python",
   "name": "python3"
  },
  "language_info": {
   "codemirror_mode": {
    "name": "ipython",
    "version": 3
   },
   "file_extension": ".py",
   "mimetype": "text/x-python",
   "name": "python",
   "nbconvert_exporter": "python",
   "pygments_lexer": "ipython3",
   "version": "3.9.12"
  }
 },
 "nbformat": 4,
 "nbformat_minor": 5
}
